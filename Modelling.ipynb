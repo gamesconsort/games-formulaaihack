{
 "cells": [
  {
   "cell_type": "markdown",
   "id": "ceb8128d",
   "metadata": {},
   "source": [
    "## Modelling"
   ]
  },
  {
   "cell_type": "markdown",
   "id": "b935fa2d",
   "metadata": {},
   "source": [
    "### Import Neccesary Libraries"
   ]
  },
  {
   "cell_type": "code",
   "execution_count": 5,
   "id": "4831d2d0",
   "metadata": {},
   "outputs": [],
   "source": [
    "from sklearn.preprocessing import StandardScaler\n",
    "import matplotlib.pyplot as plt\n",
    "import tensorflow as tf\n",
    "import pandas as pd\n",
    "import numpy as np\n",
    "import datetime\n",
    "import os"
   ]
  },
  {
   "cell_type": "code",
   "execution_count": 14,
   "id": "8ca1a8f9",
   "metadata": {},
   "outputs": [],
   "source": [
    "# Import custom helper functions\n",
    "from helpers import make_windows,train_test_split,model_checkpoint_callback, evaluate_model, predict, plot_series"
   ]
  },
  {
   "cell_type": "markdown",
   "id": "0928f2d0",
   "metadata": {},
   "source": [
    "## Import data"
   ]
  },
  {
   "cell_type": "code",
   "execution_count": null,
   "id": "576ff5d6",
   "metadata": {},
   "outputs": [],
   "source": [
    "data = pd.read_csv('please enter path to prepared data')"
   ]
  },
  {
   "cell_type": "code",
   "execution_count": null,
   "id": "19f811e5",
   "metadata": {},
   "outputs": [],
   "source": [
    "# Normalize our data\n",
    "scaler = StandardScaler()\n",
    "scaler = scaler.fit(data)\n",
    "scaled_data = scaler.transform(data)"
   ]
  },
  {
   "cell_type": "code",
   "execution_count": 11,
   "id": "acde058a",
   "metadata": {},
   "outputs": [],
   "source": [
    "HORIZON = 5\n",
    "WINDOW = 60"
   ]
  },
  {
   "cell_type": "code",
   "execution_count": null,
   "id": "ae2f7236",
   "metadata": {},
   "outputs": [],
   "source": [
    "windows, labels = make_windows(scaled_data)"
   ]
  },
  {
   "cell_type": "markdown",
   "id": "0f560699",
   "metadata": {},
   "source": [
    "### Split the window and label data into train and test set"
   ]
  },
  {
   "cell_type": "code",
   "execution_count": null,
   "id": "4b768243",
   "metadata": {},
   "outputs": [],
   "source": [
    "X_train, X_test, y_train, y_test = train_test_split(windows, labels)\n",
    "X_train.shape, X_test.shape, y_train.shape, y_test.shape"
   ]
  },
  {
   "cell_type": "code",
   "execution_count": null,
   "id": "a8e14dd6",
   "metadata": {},
   "outputs": [],
   "source": [
    "# Convert our data to tensors\n",
    "X_train = tf.constant(tf.cast(X_train, tf.float32))\n",
    "y_train = tf.constant(tf.cast(y_train, tf.float32))\n",
    "\n",
    "X_test = tf.constant(tf.cast(X_test, tf.float32))\n",
    "y_test = tf.constant(tf.cast(y_test, tf.float32))"
   ]
  },
  {
   "cell_type": "markdown",
   "id": "975d4dcc",
   "metadata": {},
   "source": [
    "## Build our model"
   ]
  },
  {
   "cell_type": "code",
   "execution_count": null,
   "id": "0b1ccb9f",
   "metadata": {},
   "outputs": [],
   "source": [
    "# Create a random seed to make our model reproducible\n",
    "tf.random.set_seed(42)\n",
    "\n",
    "base_model = tf.keras.Sequential([\n",
    "    tf.keras.layers.InputLayer(input_shape=(60, 2)),\n",
    "    tf.keras.layers.LSTM(64, activation='relu', return_sequences=True),\n",
    "    tf.keras.layers.LSTM(32, activation='relu', return_sequences=False),\n",
    "    tf.keras.layers.Dropout(.2),\n",
    "    tf.keras.layers.Dense(2)\n",
    "], name='base_model')\n",
    "\n",
    "# compile our model\n",
    "base_model.compile(loss=tf.keras.losses.mae,\n",
    "              optimizer=tf.keras.optimizers.Adam(),\n",
    "              metrics=['mae'])\n",
    "\n",
    "# fit our model\n",
    "history = base_model.fit(X_train, \n",
    "                        y_train, \n",
    "                        epochs=5, \n",
    "                        batch_size=60,\n",
    "                        validation_data=(X_test, y_test),\n",
    "                        shuffle=False,\n",
    "                        callbacks=[model_checkpoint_callback('BaseModel')])\n",
    "\n",
    "# summarize our model\n",
    "base_model.summary()"
   ]
  },
  {
   "cell_type": "markdown",
   "id": "f5a4568b",
   "metadata": {},
   "source": [
    "### Evaluate our model performance from the best saved checkpoint"
   ]
  },
  {
   "cell_type": "code",
   "execution_count": null,
   "id": "6d717391",
   "metadata": {},
   "outputs": [],
   "source": [
    "evaluate_model('Callbacks/checkpoints/', \n",
    "               x_test=X_test, \n",
    "               y_test=y_test)"
   ]
  },
  {
   "cell_type": "markdown",
   "id": "becf39e4",
   "metadata": {},
   "source": [
    "## Make a forecast\n",
    "**📝 Note:** These are only psuedo forecasts"
   ]
  },
  {
   "cell_type": "code",
   "execution_count": null,
   "id": "87e880ec",
   "metadata": {},
   "outputs": [],
   "source": [
    "y_pred = predict(base_model, X_test)"
   ]
  }
 ],
 "metadata": {
  "kernelspec": {
   "display_name": "Python 3 (ipykernel)",
   "language": "python",
   "name": "python3"
  },
  "language_info": {
   "codemirror_mode": {
    "name": "ipython",
    "version": 3
   },
   "file_extension": ".py",
   "mimetype": "text/x-python",
   "name": "python",
   "nbconvert_exporter": "python",
   "pygments_lexer": "ipython3",
   "version": "3.8.8"
  }
 },
 "nbformat": 4,
 "nbformat_minor": 5
}
